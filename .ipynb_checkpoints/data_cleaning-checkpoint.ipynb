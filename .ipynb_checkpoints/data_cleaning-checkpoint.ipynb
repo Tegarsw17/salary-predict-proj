{
 "cells": [
  {
   "cell_type": "code",
   "execution_count": 78,
   "id": "799e6448-104b-4d74-8f03-84829e483fdd",
   "metadata": {},
   "outputs": [],
   "source": [
    "import pandas as pd"
   ]
  },
  {
   "cell_type": "code",
   "execution_count": 79,
   "id": "e37b93c5-d6a3-4aa3-9ab5-319c156ae94c",
   "metadata": {},
   "outputs": [],
   "source": [
    "#load table\n",
    "df = pd.read_csv('ds_salary_01_June_2022_all.csv')"
   ]
  },
  {
   "cell_type": "code",
   "execution_count": 80,
   "id": "01050b5f-81e0-49d4-8f55-a876c8e6cf75",
   "metadata": {},
   "outputs": [
    {
     "data": {
      "text/plain": [
       "Index(['Unnamed: 0', 'Unnamed: 0.1', 'Job Title', 'Salary Estimate', 'Rating',\n",
       "       'Company Name', 'Description', 'Location', 'size', 'type', 'sector',\n",
       "       'founded', 'industry', 'revenue'],\n",
       "      dtype='object')"
      ]
     },
     "execution_count": 80,
     "metadata": {},
     "output_type": "execute_result"
    }
   ],
   "source": [
    "df.columns"
   ]
  },
  {
   "cell_type": "code",
   "execution_count": 81,
   "id": "ae8c3dff-eced-44c5-9c5b-7665a0c1d48e",
   "metadata": {},
   "outputs": [],
   "source": [
    "#Remove not important column\n",
    "df = df.drop(['Unnamed: 0','Unnamed: 0.1'], axis=1)"
   ]
  },
  {
   "cell_type": "code",
   "execution_count": 82,
   "id": "8a5feb07-7902-4fa0-96e8-dc7ffeb5f500",
   "metadata": {},
   "outputs": [],
   "source": [
    "#Remove row with condition don't have salary\n",
    "df = df[df['Salary Estimate'] != '-1']"
   ]
  },
  {
   "cell_type": "code",
   "execution_count": 83,
   "id": "226d33c2-7dd3-4d14-bbcb-fba943d4ce49",
   "metadata": {},
   "outputs": [],
   "source": [
    "#add coumn to know per hour or employ provide in salary estimate\n",
    "df['Per Hour'] = df['Salary Estimate'].apply(lambda x: 1 if 'per hour' in x.lower() else 0)\n",
    "df['Employ Prov'] = df['Salary Estimate'].apply(lambda x: 1 if 'employer provided salary' in x.lower() else 0)"
   ]
  },
  {
   "cell_type": "code",
   "execution_count": 84,
   "id": "5f28a214-6b2c-4d81-a194-c66e00a48b86",
   "metadata": {},
   "outputs": [],
   "source": [
    "#Salary estimate Range\n",
    "salary = df['Salary Estimate'].apply(lambda x: x.split('(')[0])\n",
    "remove_s = salary.apply(lambda x: x.replace('$','').replace('K','').replace('Employer Provided Salary:','').replace('Per Hour',''))"
   ]
  },
  {
   "cell_type": "code",
   "execution_count": 85,
   "id": "2a67da9d-1d1f-4bf7-b389-ea9d43fac5d6",
   "metadata": {},
   "outputs": [],
   "source": [
    "#add Min Max Avg salary\n",
    "df['Min Salary'] = remove_s.apply(lambda x: int(x.split('-')[0]))\n",
    "df['Max Salary'] = remove_s.apply(lambda x: int(x.split('-')[1]) if '-' in x.lower() else int(x.split('-')[0]))\n",
    "df['Avg Salary'] = (df['Min Salary'] + df['Max Salary'])/2"
   ]
  },
  {
   "cell_type": "code",
   "execution_count": 86,
   "id": "71afcaa9-d624-4c04-9758-4c2bcee53cf8",
   "metadata": {},
   "outputs": [],
   "source": [
    "#Remove rating in Company Name\n",
    "df['Company']=df['Company Name'].apply(lambda x: x.split('\\n')[0])"
   ]
  },
  {
   "cell_type": "code",
   "execution_count": 87,
   "id": "767d4b24-32d6-4929-bbc3-6f4cd97bba67",
   "metadata": {},
   "outputs": [],
   "source": [
    "#arrange column\n",
    "df=df[['Job Title', 'Salary Estimate', 'Rating', 'Company', 'Description',\n",
    "       'Location', 'size', 'type', 'sector', 'founded', 'industry', 'revenue',\n",
    "       'Per Hour', 'Employ Prov', 'Min Salary', 'Max Salary', 'Avg Salary',\n",
    "       'Company Name']]\n",
    "df = df.drop(['Company Name'], axis=1)"
   ]
  },
  {
   "cell_type": "code",
   "execution_count": 88,
   "id": "a5115aea-256f-4f5e-b18f-197edf8d5ef8",
   "metadata": {},
   "outputs": [],
   "source": [
    "#Add age company\n",
    "non_year = df['founded'].apply(pd.to_numeric,errors='coerce')\n",
    "df['age'] = 2022 - non_year"
   ]
  },
  {
   "cell_type": "code",
   "execution_count": 89,
   "id": "68d80a45-5d9f-4439-8495-b200cafe8931",
   "metadata": {},
   "outputs": [],
   "source": [
    "#Ektrak Tool yang digunkan dalam bekerja\n",
    "#python\n",
    "df['python_req'] = df['Description'].apply(lambda x: 1 if 'python' in x.lower() else 0)\n",
    "#matlab\n",
    "df['matlab_req'] = df['Description'].apply(lambda x: 1 if 'matlab' in x.lower() else 0)\n",
    "# Spark\n",
    "df['spark_req'] = df['Description'].apply(lambda x: 1 if 'spark' in x.lower() else 0)\n",
    "#sql\n",
    "df['sql_req'] = df['Description'].apply(lambda x: 1 if 'sql' in x.lower() else 0)"
   ]
  },
  {
   "cell_type": "code",
   "execution_count": 96,
   "id": "d3b5373a-a90f-4db1-84c8-5e5714f6b5b3",
   "metadata": {},
   "outputs": [
    {
     "data": {
      "text/plain": [
       "array(['Data Scientist', 'Data Scientist - Remote',\n",
       "       'Postdoc on Machine Learning for Eye Gaze Data at the University of Colorado Boulder',\n",
       "       'Junior Data Scientist', 'Data Scientist (Mid)',\n",
       "       'Data Scientist or Bioinformatician', 'Data Scientist Analyst',\n",
       "       'Data Scientist II',\n",
       "       'Data Scientist and Research Analyst (Hybrid Schedule)',\n",
       "       'Data Scientist III', 'Sr Data Analyst (Cloud Billing)',\n",
       "       'Statistical Data Scientist',\n",
       "       'Senior Data Scientist at Web3 Startup',\n",
       "       'Senior Data Scientist II, Core', 'Applied Scientist',\n",
       "       'Associate Data Scientist', 'Data Science, Real Time Intelligence',\n",
       "       'Principal Machine Learning Engineer, Confluence Search',\n",
       "       'Data Scientist (Technology Analyst) - IF',\n",
       "       'Senior Business Data Analyst', 'Senior Data Scientist',\n",
       "       'Data Science Analyst I - Cardiology',\n",
       "       'Head, Technology Ethics & Data Privacy',\n",
       "       'Lead Cybersecurity Data Scientist',\n",
       "       'Data Analytics and Finance Administrator',\n",
       "       'Data Scientist, Consultant', 'Data Engineer, Mid',\n",
       "       'Senior Data Analyst', 'Senior Data Scientist, Core DS',\n",
       "       'Engineering Manager, Data Science - Ads Quality',\n",
       "       'Fraud Senior Data Scientist', 'Senior Applied Scientist - Video',\n",
       "       'Data Integration Lead', 'Senior Machine Learning Engineer',\n",
       "       'Sr Provider Data Analyst - Las Vegas, NV',\n",
       "       'Remote Machine Learning Engineer', 'Senior Data Analyst - Remote',\n",
       "       'Senior Applied Scientist, Special Projects',\n",
       "       'Hedge Fund/Family Office Consultant - Data Scientist',\n",
       "       'Associate Director, Data Scientist',\n",
       "       'Senior Technical Data Analyst',\n",
       "       'Senior Data Analyst/Data Analyst', 'Quantitative Researcher',\n",
       "       'Lead Data Scientist',\n",
       "       'Training and Placement in Data Science, AWS, java, Scrum',\n",
       "       'Principal Applied Scientist, Robotics AI',\n",
       "       'Data Science Engineer', 'OR/AI Engineer',\n",
       "       'Statistician III - 61112197', 'Health Data Lead, Senior Manager',\n",
       "       'SME Data Scientist, TS/SCI with Polygraph, McLean, Va',\n",
       "       'Senior Research and Data Analyst',\n",
       "       'Artificial Intelligence / Machine Learning Engineer',\n",
       "       'Senior Data Scientist, TS/SCI with Polygraph, McLean, Va',\n",
       "       'Machine Learning Engineer', 'Senior Sales Data Analyst',\n",
       "       'Applied Scientist, AWS Global Lead Management & Operations',\n",
       "       'Manager Statistical Programming',\n",
       "       'Technology Development Analyst - AI/ML',\n",
       "       'Sr AI/ML Engineer - Telecommute', 'Machine Learning Engineer II',\n",
       "       'Senior Data Analytics Developer and Technology Consultant',\n",
       "       'Senior Healthcare Economics Consultant - Telecommute',\n",
       "       'Sr Data Engineer',\n",
       "       'Microsoft - Data & AI - Azure Data Strategy Consultant - Manager - Open Location',\n",
       "       'Manager, Data Science', 'Machine Learning Platform Engineer',\n",
       "       'Machine Learning Engineer II, Restricted Products',\n",
       "       'Senior Healthcare Economics Analyst - Telecommute',\n",
       "       'Senior Machine Learning Engineer, MLOps',\n",
       "       'Senior Statistician/Principal Investigator/Co-Principal Investigator',\n",
       "       'Senior Applied Scientist, Computer Vision, AWS AI',\n",
       "       'Mineral Data Scientist', 'HR Analytics – Data Scientist (Remote)',\n",
       "       'SCIENTIST - DATA REVIEW - REMOTE', 'Sr. IT Data Scientist Remote',\n",
       "       'Data Scientist/Visualization Specialist',\n",
       "       'Machine Learning Data Scientist - Project Management',\n",
       "       'Data Analytics Engineer II - 164522',\n",
       "       'SR HEALTHCARE DATA ANALYST',\n",
       "       'Sr Manufacturing Operations Business and Data Analyst',\n",
       "       'Senior Data Analyst- Supply Chain Operations',\n",
       "       'Data Scientist - NLP', 'Sr. Data Analyst',\n",
       "       'Sr Data Science Analyst', 'Biomedical Data Scientist',\n",
       "       'Artificial Intelligence & Machine Learning Engineer',\n",
       "       'Data Analyst', 'Sr Marketing Data Analyst',\n",
       "       'Data Science- Database/Applications Analyst',\n",
       "       'Sr. Data Analyst, Compliance',\n",
       "       'Solutions Architect - LPD Data Scientist',\n",
       "       'Machine Learning Framework Software Development Engineer',\n",
       "       'Data Scientist Skill Level 3',\n",
       "       'Principal/Senior Data Scientist, Proteomics',\n",
       "       'Data Science Consultant II',\n",
       "       'Data Scientist - Ads Sales (Remote)',\n",
       "       'Statistics and Machine Learning Visualization Developer',\n",
       "       'Artificial intelligence',\n",
       "       'Senior Director & Data Scientist - CMP Pricing',\n",
       "       'Investment Senior Data Analyst',\n",
       "       'Data Scientist Senior or Lead - Remote',\n",
       "       'Staff Software Engineer - Machine Learning',\n",
       "       'Senior Data Analyst - BTA', 'Senior Statistician',\n",
       "       'Entry Level - Associate SAP Data & Analytics Consultant - Baton Rouge',\n",
       "       'ML Engineer (Remote)', 'Data Science Manager',\n",
       "       'AI for Code Software Engineer',\n",
       "       'Modem Analytics and Machine Learning',\n",
       "       'Hybrid Cloud & AI Solution Architect -IBM Client Engineering',\n",
       "       'Statistical Analyst II',\n",
       "       'Data Analyst,Tech. Consulting-Data&Analytics(Advanced Analytics)(Manager)(MultiplePositions)(649201)',\n",
       "       'Site Reliability Engineer - ML/AI Platform (Remote)',\n",
       "       'Senior Software Engineer - Sr. AWS Data Engineer - MSCA',\n",
       "       'Senior Staff Software Engineer, Data Platform',\n",
       "       'Sports Statistician - Basketball',\n",
       "       'Senior Product Marketing Engineer (AI / Machine Learning)',\n",
       "       'Senior Clinical Statistical Programmer - CRO',\n",
       "       'Lead Threat Data Scientist', 'Sr. Data Scientist', 'ML Engineer',\n",
       "       'Specialist Data Scientist', 'JAIC AI Ethics SME',\n",
       "       'Principal Data Scientist',\n",
       "       'data scientist (multiple openings) - Remote',\n",
       "       'decision scientist (multiple openings) - Remote'], dtype=object)"
      ]
     },
     "execution_count": 96,
     "metadata": {},
     "output_type": "execute_result"
    }
   ],
   "source": [
    "df['Job Title'].unique()"
   ]
  },
  {
   "cell_type": "code",
   "execution_count": 105,
   "id": "743fa7ea-a876-48b0-a0cb-76088e520086",
   "metadata": {},
   "outputs": [],
   "source": [
    "def title_simplifier(title):\n",
    "    if 'data scientist' in title.lower():\n",
    "        return 'data scientist'\n",
    "    elif 'analyst' in title.lower():\n",
    "        return 'analyst'\n",
    "    elif 'analytics' in title.lower():\n",
    "        return 'analyst'\n",
    "    elif 'machine learning' in title.lower():\n",
    "        return 'mle'\n",
    "    else:\n",
    "        return 'NaN'"
   ]
  },
  {
   "cell_type": "code",
   "execution_count": 106,
   "id": "07fec64a-a4c9-4869-b62d-50846a88b6af",
   "metadata": {},
   "outputs": [],
   "source": [
    "# simplified\n",
    "df['job_simp'] = df['Job Title'].apply(title_simplifier)"
   ]
  },
  {
   "cell_type": "code",
   "execution_count": 107,
   "id": "ce8e6309-2aeb-4472-aa31-11ef45e7ff27",
   "metadata": {},
   "outputs": [
    {
     "data": {
      "text/plain": [
       "data scientist    668\n",
       "analyst            94\n",
       "NaN                79\n",
       "mle                51\n",
       "Name: job_simp, dtype: int64"
      ]
     },
     "execution_count": 107,
     "metadata": {},
     "output_type": "execute_result"
    }
   ],
   "source": [
    "df['job_simp'].value_counts()"
   ]
  },
  {
   "cell_type": "code",
   "execution_count": 110,
   "id": "309f829b-229b-4e25-b690-c38bdd41ec33",
   "metadata": {},
   "outputs": [],
   "source": [
    "df.to_csv('data_cleanig_03_June_2022_II.csv',index = False)\n",
    "# df"
   ]
  },
  {
   "cell_type": "code",
   "execution_count": null,
   "id": "09dff0bf-1591-4152-93cb-5cf67823ea09",
   "metadata": {},
   "outputs": [],
   "source": []
  }
 ],
 "metadata": {
  "kernelspec": {
   "display_name": "Python 3",
   "language": "python",
   "name": "python3"
  },
  "language_info": {
   "codemirror_mode": {
    "name": "ipython",
    "version": 3
   },
   "file_extension": ".py",
   "mimetype": "text/x-python",
   "name": "python",
   "nbconvert_exporter": "python",
   "pygments_lexer": "ipython3",
   "version": "3.8.8"
  }
 },
 "nbformat": 4,
 "nbformat_minor": 5
}
